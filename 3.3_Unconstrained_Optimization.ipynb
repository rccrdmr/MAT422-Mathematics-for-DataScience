{
  "nbformat": 4,
  "nbformat_minor": 0,
  "metadata": {
    "colab": {
      "provenance": [],
      "authorship_tag": "ABX9TyPHg5epoECmlpv3aooXCNGw",
      "include_colab_link": true
    },
    "kernelspec": {
      "name": "python3",
      "display_name": "Python 3"
    },
    "language_info": {
      "name": "python"
    }
  },
  "cells": [
    {
      "cell_type": "markdown",
      "metadata": {
        "id": "view-in-github",
        "colab_type": "text"
      },
      "source": [
        "<a href=\"https://colab.research.google.com/github/rccrdmr/MAT422-Mathematics-for-DataScience/blob/main/3.3_Unconstrained_Optimization.ipynb\" target=\"_parent\"><img src=\"https://colab.research.google.com/assets/colab-badge.svg\" alt=\"Open In Colab\"/></a>"
      ]
    },
    {
      "cell_type": "markdown",
      "source": [
        "# 3.3 Unconstrained Optimization"
      ],
      "metadata": {
        "id": "eUGYuwXQ0EkM"
      }
    },
    {
      "cell_type": "markdown",
      "source": [
        "### 3.3.1 Necessary and Sufficient Conditions of Local Minimizers\n"
      ],
      "metadata": {
        "id": "YbE75TTo0FNZ"
      }
    },
    {
      "cell_type": "markdown",
      "source": [
        "#### 3.3.1.1 Sufficient Conditions for Local Minimizers\n"
      ],
      "metadata": {
        "id": "kU-Cw_gx0G0T"
      }
    },
    {
      "cell_type": "markdown",
      "source": [
        "### 3.3.2 Convexity and Global Minimizers\n"
      ],
      "metadata": {
        "id": "vHrsXy-E0IzQ"
      }
    },
    {
      "cell_type": "markdown",
      "source": [
        "#### 3.3.2.1 Convex Sets and Functions\n"
      ],
      "metadata": {
        "id": "ubYVJxOE0KVq"
      }
    },
    {
      "cell_type": "markdown",
      "source": [
        "#### 3.3.2.2 Global Minimizers of Convex Functions\n"
      ],
      "metadata": {
        "id": "SjyMxqlX0LzG"
      }
    },
    {
      "cell_type": "markdown",
      "source": [
        "### 3.3.3 Gradient Descent"
      ],
      "metadata": {
        "id": "d6DkFt3W0Nh4"
      }
    },
    {
      "cell_type": "markdown",
      "source": [
        "#### 3.3.3.1 Steepest Descent\n"
      ],
      "metadata": {
        "id": "X4SHocIQ0PmI"
      }
    }
  ]
}