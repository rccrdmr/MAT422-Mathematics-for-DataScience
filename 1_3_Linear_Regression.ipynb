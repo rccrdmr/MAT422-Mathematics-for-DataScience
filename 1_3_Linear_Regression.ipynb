{
  "nbformat": 4,
  "nbformat_minor": 0,
  "metadata": {
    "colab": {
      "provenance": [],
      "authorship_tag": "ABX9TyNmbX7IroRAxqU1MBPwvlFF",
      "include_colab_link": true
    },
    "kernelspec": {
      "name": "python3",
      "display_name": "Python 3"
    },
    "language_info": {
      "name": "python"
    }
  },
  "cells": [
    {
      "cell_type": "markdown",
      "metadata": {
        "id": "view-in-github",
        "colab_type": "text"
      },
      "source": [
        "<a href=\"https://colab.research.google.com/github/rccrdmr/MAT422-Mathematics-for-DataScience/blob/main/1_3_Linear_Regression.ipynb\" target=\"_parent\"><img src=\"https://colab.research.google.com/assets/colab-badge.svg\" alt=\"Open In Colab\"/></a>"
      ]
    },
    {
      "cell_type": "markdown",
      "source": [
        "#1.3 Linear Regression\n",
        "_______________________________\n",
        "###Topics:\n",
        "* 1.3.1. QR decomposition\n",
        "* 1.3.2. Least-squares problems\n",
        "* 1.3.3. Linear regression"
      ],
      "metadata": {
        "id": "C1apI4O2z3uo"
      }
    },
    {
      "cell_type": "markdown",
      "source": [
        "Linear regression is frequently used in practical applications due to its simplicity. The model depends linearly on its unknown parameters, making it easier to fit and analyze compared to models that are non-linearly related to their parameters. This section introduces QR decomposition, the least-squares problem, and its connection to linear regression.\n"
      ],
      "metadata": {
        "id": "mEEVLbUY1X17"
      }
    },
    {
      "cell_type": "markdown",
      "source": [
        "## 1.3.1. QR Decomposition"
      ],
      "metadata": {
        "id": "-0jSl2Mo0ZJx"
      }
    },
    {
      "cell_type": "markdown",
      "source": [
        "QR decomposition is a useful method to solve the linear least-squares problem. It begins with the Gram-Schmidt algorithm, which generates an orthonormal basis $\\text{span}(a_1, \\ldots, a_m)$ from a linearly independent set of $\\text{span}(a_1, \\ldots, a_m)$.\n",
        "\n",
        "Let:\n",
        "$$\n",
        "A =\n",
        "\\begin{pmatrix}\n",
        "| & | & & | \\\\\n",
        "a_1 & a_2 & \\cdots & a_m \\\\\n",
        "| & | & & |\n",
        "\\end{pmatrix}\n",
        "\\quad \\text{and} \\quad\n",
        "Q =\n",
        "\\begin{pmatrix}\n",
        "| & | & & | \\\\\n",
        "q_1 & q_2 & \\cdots & q_m \\\\\n",
        "| & | & & |\n",
        "\\end{pmatrix}\n",
        "$$\n",
        "where $A$ and $Q$ are $n \\times m$ matrices. The output of Gram-Schmidt is the QR decomposition:\n",
        "$$\n",
        "A = QR\n",
        "$$\n",
        "where $R$ is an upper triangular matrix containing the coefficients of the linear combination of $q_j$'s that produces $a_i$.\n"
      ],
      "metadata": {
        "id": "9vH7_bfO18QT"
      }
    },
    {
      "cell_type": "markdown",
      "source": [
        "## 1.3.2 Least-squares problems"
      ],
      "metadata": {
        "id": "rLXfGYSD0iQR"
      }
    },
    {
      "cell_type": "markdown",
      "source": [
        "The least-squares method solves inconsistent linear systems, especially when there are more equations than unknowns. It finds an approximate solution by minimizing the difference between the observed and predicted values. The normal equations, $A^T A x = A^T b$, provide a way to solve this problem."
      ],
      "metadata": {
        "id": "Gg_w5MEA4nJH"
      }
    },
    {
      "cell_type": "markdown",
      "source": [
        "**Theorem (Normal Equations):**\n",
        "\n",
        "Let $A \\in \\mathbb{R}^{n \\times m}$ be an $n \\times m$ matrix with linearly independent columns, and let $b \\in \\mathbb{R}^n$ be a vector. The solution to the least-squares problem\n",
        "$$\n",
        "\\min_{x \\in \\mathbb{R}^m} \\|Ax - b\\|\n",
        "$$\n",
        "satisfies the normal equations:\n",
        "$$\n",
        "A^T A x = A^T b\n",
        "$$\n"
      ],
      "metadata": {
        "id": "9J9wy6p05oHT"
      }
    },
    {
      "cell_type": "code",
      "source": [
        "import numpy as np\n",
        "\n",
        "# Over-determined system (3x2)\n",
        "A = np.array([[1, 2], [3, 4], [5, 6]])\n",
        "b = np.array([7, 8, 9])\n",
        "\n",
        "# Normal equations: (A^T A) x = A^T b\n",
        "AtA = A.T @ A\n",
        "Atb = A.T @ b\n",
        "\n",
        "# Solving the normal equations\n",
        "x_normal = np.linalg.solve(AtA, Atb)\n",
        "\n",
        "print(\"Solution using normal equations:\", x_normal)\n"
      ],
      "metadata": {
        "colab": {
          "base_uri": "https://localhost:8080/"
        },
        "id": "oLfWLZOsCd0z",
        "outputId": "76c693de-7127-460c-d416-e09c4fc62bf0"
      },
      "execution_count": 41,
      "outputs": [
        {
          "output_type": "stream",
          "name": "stdout",
          "text": [
            "Solution using normal equations: [-6.   6.5]\n"
          ]
        }
      ]
    },
    {
      "cell_type": "markdown",
      "source": [
        "**Theorem (Least Squares via QR Decomposition):**\n",
        "\n",
        "Let $A \\in \\mathbb{R}^{n \\times m}$ be an $n \\times m$ matrix with linearly independent columns, let $b \\in \\mathbb{R}^n$ be a vector, and let $A = QR$ be a QR decomposition of $A$, where $Q$ is a $n \\times m$ matrix with $Q^T Q = I_{m \\times m}$ and $R$ is upper triangular. The solution to the least-squares problem\n",
        "$$\n",
        "\\min_{x \\in \\mathbb{R}^m} \\|Ax - b\\|\n",
        "$$\n",
        "satisfies\n",
        "$$\n",
        "R x^* = Q^T b\n",
        "$$\n"
      ],
      "metadata": {
        "id": "F8A-BawF5pZ-"
      }
    },
    {
      "cell_type": "code",
      "source": [
        "import numpy as np\n",
        "from scipy.linalg import qr\n",
        "\n",
        "A = np.array([[1, 2], [3, 4], [5, 6]])\n",
        "b = np.array([7, 8, 9])\n",
        "\n",
        "# QR decomposition\n",
        "Q, R = qr(A)\n",
        "\n",
        "# Solve Rx = Q^T * b using least-squares solution\n",
        "x_qr, residuals, rank, s = np.linalg.lstsq(R, Q.T @ b, rcond=None)\n",
        "\n",
        "print(\"Solution using QR decomposition (least squares):\", x_qr)\n"
      ],
      "metadata": {
        "colab": {
          "base_uri": "https://localhost:8080/"
        },
        "id": "NkkmvHdcBrOg",
        "outputId": "71ddcf64-7475-4f80-e67d-dee5227c9eb0"
      },
      "execution_count": 23,
      "outputs": [
        {
          "output_type": "stream",
          "name": "stdout",
          "text": [
            "Solution using QR decomposition (least squares): [-6.   6.5]\n"
          ]
        }
      ]
    },
    {
      "cell_type": "markdown",
      "source": [
        "## 1.3.3 Linear Regression"
      ],
      "metadata": {
        "id": "P7OAFky40oPd"
      }
    },
    {
      "cell_type": "markdown",
      "source": [
        "Given input data points $\\{(x_i, y_i)\\}_{i=1}^{n}$, where each $x_i = (x_{i1}, \\dots, x_{id})^T$, we aim to fit an affine function to the data. The objective is to find coefficients $\\beta_j$ that minimize the sum of squared residuals:\n",
        "$$\n",
        "\\sum_{i=1}^{n} (y_i - \\hat{y}_i)^2,\n",
        "$$\n",
        "where the predicted values are given by:\n",
        "$$\n",
        "\\hat{y}_i = \\beta_0 + \\sum_{j=1}^{d} \\beta_j x_{ij}.\n",
        "$$\n",
        "\n",
        "This is a least-squares problem, and in matrix form, it can be expressed as:\n",
        "\n",
        "$$\n",
        "y =\n",
        "\\begin{pmatrix}\n",
        "y_1 \\\\\n",
        "y_2 \\\\\n",
        "\\vdots \\\\\n",
        "y_n\n",
        "\\end{pmatrix}, \\quad\n",
        "A =\n",
        "\\begin{pmatrix}\n",
        "1 & x_{11} & \\dots & x_{1d} \\\\\n",
        "1 & x_{21} & \\dots & x_{2d} \\\\\n",
        "\\vdots & \\vdots & \\ddots & \\vdots \\\\\n",
        "1 & x_{n1} & \\dots & x_{nd}\n",
        "\\end{pmatrix}, \\quad\n",
        "\\beta =\n",
        "\\begin{pmatrix}\n",
        "\\beta_0 \\\\\n",
        "\\beta_1 \\\\\n",
        "\\vdots \\\\\n",
        "\\beta_d\n",
        "\\end{pmatrix}.\n",
        "$$\n",
        "\n",
        "The least-squares problem then becomes:\n",
        "$$\n",
        "\\min_{\\beta} \\| y - A \\beta \\|^2.\n",
        "$$\n",
        "\n",
        "This is exactly the least-squares problem discussed in the previous section and can be solved using the normal equations or QR decomposition."
      ],
      "metadata": {
        "id": "COr-pBJl9QO1"
      }
    },
    {
      "cell_type": "code",
      "source": [
        "import numpy as np\n",
        "import matplotlib.pyplot as plt\n",
        "from sklearn.linear_model import LinearRegression\n",
        "\n",
        "# Dataset with noise\n",
        "np.random.seed(42)\n",
        "X = np.random.rand(100, 1) * 10\n",
        "y = 4 * X[:, 0] + 7 + np.random.randn(100) * 2\n",
        "\n",
        "# Linear Regression\n",
        "model = LinearRegression()\n",
        "model.fit(X, y)\n",
        "\n",
        "# Coefficients and intercept\n",
        "beta = model.coef_\n",
        "beta_0 = model.intercept_\n",
        "\n",
        "# Predictions\n",
        "y_pred = model.predict(X)\n",
        "\n",
        "# Plot\n",
        "plt.scatter(X, y, color='blue', label='Actual values', alpha=0.6)\n",
        "plt.plot(X, y_pred, color='red', linestyle='-', label='Predicted line')\n",
        "plt.text(1, 35, f\"Coefficients: {np.round(beta, 2)}\", fontsize=10)\n",
        "plt.text(1, 32, f\"Intercept: {round(beta_0, 2)}\", fontsize=10)\n",
        "plt.xlabel('Feature')\n",
        "plt.ylabel('Target')\n",
        "plt.title('Linear Regression: Actual vs Predicted with Residuals')\n",
        "plt.legend()\n",
        "plt.show()\n",
        "\n",
        "print(\"Coefficients (β):\", beta)\n",
        "print(\"Intercept (β0):\", beta_0)\n"
      ],
      "metadata": {
        "colab": {
          "base_uri": "https://localhost:8080/",
          "height": 508
        },
        "id": "TRpf9O6KHtL0",
        "outputId": "696b72c8-a1db-4751-d6f5-d5e3e2efd97a"
      },
      "execution_count": 33,
      "outputs": [
        {
          "output_type": "display_data",
          "data": {
            "text/plain": [
              "<Figure size 640x480 with 1 Axes>"
            ],
            "image/png": "[encoded data removed]"
          },
          "metadata": {}
        },
        {
          "output_type": "stream",
          "name": "stdout",
          "text": [
            "Coefficients (β): [3.90804535]\n",
            "Intercept (β0): 7.4301923150935\n"
          ]
        }
      ]
    }
  ]
}